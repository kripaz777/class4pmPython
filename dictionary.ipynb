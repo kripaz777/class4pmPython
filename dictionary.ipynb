{
 "cells": [
  {
   "cell_type": "code",
   "execution_count": 1,
   "metadata": {},
   "outputs": [],
   "source": [
    "# a = {}\n",
    "# b = {<key>:<value>,<key>:<value>}\n"
   ]
  },
  {
   "cell_type": "code",
   "execution_count": 2,
   "metadata": {},
   "outputs": [
    {
     "name": "stdout",
     "output_type": "stream",
     "text": [
      "{'a': 'Apple', 'b': 'Ball', 'c': 'Cat'}\n",
      "<class 'dict'>\n"
     ]
    }
   ],
   "source": [
    "a = dict()\n",
    "b = {\"a\":\"Apple\",\"b\":\"Ball\",\"c\":\"Cat\"}\n",
    "print(b)\n",
    "print(type(b))"
   ]
  },
  {
   "cell_type": "code",
   "execution_count": 4,
   "metadata": {},
   "outputs": [],
   "source": [
    "# Dict\n",
    "# -Indexed\n",
    "# -Duplicate values\n",
    "# -Ordered\n",
    "#mutable"
   ]
  },
  {
   "cell_type": "code",
   "execution_count": 8,
   "metadata": {},
   "outputs": [
    {
     "name": "stdout",
     "output_type": "stream",
     "text": [
      "Apple\n",
      "Ball\n",
      "Cat\n",
      "3\n"
     ]
    }
   ],
   "source": [
    "b = {\"a\":\"Apple\",\"b\":\"Ball\",\"c\":\"Cat\"}\n",
    "print(b[\"a\"])\n",
    "print(b[\"b\"])\n",
    "print(b[\"c\"])\n",
    "print(len(b))"
   ]
  },
  {
   "cell_type": "code",
   "execution_count": 9,
   "metadata": {},
   "outputs": [
    {
     "data": {
      "text/plain": [
       "{'a': 'Ant', 'b': 'Ball', 'c': 'Cat'}"
      ]
     },
     "execution_count": 9,
     "metadata": {},
     "output_type": "execute_result"
    }
   ],
   "source": [
    "b = {\"a\":\"Apple\",\"b\":\"Ball\",\"c\":\"Cat\",\"a\":\"Ant\"}\n",
    "b"
   ]
  },
  {
   "cell_type": "code",
   "execution_count": 12,
   "metadata": {},
   "outputs": [
    {
     "name": "stdout",
     "output_type": "stream",
     "text": [
      "{'a': 'Apple', 'b': 'Ball', 'c': 'Cat', 'A': 'Apple'}\n"
     ]
    }
   ],
   "source": [
    "b = {\"a\":\"Apple\",\"b\":\"Ball\",\"c\":\"Cat\",\"A\":\"Apple\"}\n",
    "print(b)"
   ]
  },
  {
   "cell_type": "code",
   "execution_count": 14,
   "metadata": {},
   "outputs": [
    {
     "data": {
      "text/plain": [
       "{'a': 'Apple', 'b': 'Ball', 'c': 'Cat'}"
      ]
     },
     "execution_count": 14,
     "metadata": {},
     "output_type": "execute_result"
    }
   ],
   "source": [
    "a = {}\n",
    "#a[<key>] = <value>\n",
    "a[\"a\"] = \"Apple\"\n",
    "a[\"b\"] = \"Ball\"\n",
    "a[\"c\"] = \"Cat\"\n",
    "a"
   ]
  },
  {
   "cell_type": "code",
   "execution_count": 15,
   "metadata": {},
   "outputs": [
    {
     "data": {
      "text/plain": [
       "{'a': 'Apple', 'b': 'Ball', 'c': 'Coat'}"
      ]
     },
     "execution_count": 15,
     "metadata": {},
     "output_type": "execute_result"
    }
   ],
   "source": [
    "a = {}\n",
    "#a[<key>] = <value>\n",
    "a[\"a\"] = \"Apple\"\n",
    "a[\"b\"] = \"Ball\"\n",
    "a[\"c\"] = \"Cat\"\n",
    "a[\"c\"] = \"Coat\"\n",
    "a"
   ]
  },
  {
   "cell_type": "code",
   "execution_count": 16,
   "metadata": {},
   "outputs": [
    {
     "name": "stdout",
     "output_type": "stream",
     "text": [
      "Enter n = 2\n",
      "Enter name = Ram\n",
      "Enter phone = 9867665654\n",
      "Enter name = Shyam\n",
      "Enter phone = 9856552321\n",
      "{'Ram': '9867665654', 'Shyam': '9856552321'}\n"
     ]
    }
   ],
   "source": [
    "data = {}\n",
    "n = int(input(\"Enter n = \"))\n",
    "for i in range(n):\n",
    "    name = input(\"Enter name = \")\n",
    "    phone = input(\"Enter phone = \")\n",
    "    data[name] = phone\n",
    "    \n",
    "print(data)"
   ]
  },
  {
   "cell_type": "code",
   "execution_count": 17,
   "metadata": {},
   "outputs": [
    {
     "name": "stdout",
     "output_type": "stream",
     "text": [
      "Ram\n",
      "Shyam\n"
     ]
    }
   ],
   "source": [
    "a = {'Ram': '9867665654', 'Shyam': '9856552321'}\n",
    "for i in a:\n",
    "    print(i)"
   ]
  },
  {
   "cell_type": "code",
   "execution_count": 18,
   "metadata": {},
   "outputs": [
    {
     "name": "stdout",
     "output_type": "stream",
     "text": [
      "9867665654\n",
      "9856552321\n"
     ]
    }
   ],
   "source": [
    "a = {'Ram': '9867665654', 'Shyam': '9856552321'}\n",
    "for i in a.values():\n",
    "    print(i)"
   ]
  },
  {
   "cell_type": "code",
   "execution_count": 19,
   "metadata": {},
   "outputs": [
    {
     "name": "stdout",
     "output_type": "stream",
     "text": [
      "('Ram', '9867665654')\n",
      "('Shyam', '9856552321')\n"
     ]
    }
   ],
   "source": [
    "a = {'Ram': '9867665654', 'Shyam': '9856552321'}\n",
    "for i in a.items():\n",
    "    print(i)"
   ]
  },
  {
   "cell_type": "code",
   "execution_count": 20,
   "metadata": {},
   "outputs": [
    {
     "data": {
      "text/plain": [
       "{'Ram': '9867665654', 'Shyam': '9856552321'}"
      ]
     },
     "execution_count": 20,
     "metadata": {},
     "output_type": "execute_result"
    }
   ],
   "source": [
    "x = [('Ram', '9867665654'),('Shyam', '9856552321')]\n",
    "dict(x)"
   ]
  },
  {
   "cell_type": "code",
   "execution_count": 21,
   "metadata": {},
   "outputs": [
    {
     "data": {
      "text/plain": [
       "{'Ram': '9800000000', 'Shyam': '9856552321'}"
      ]
     },
     "execution_count": 21,
     "metadata": {},
     "output_type": "execute_result"
    }
   ],
   "source": [
    "a = {'Ram': '9867665654', 'Shyam': '9856552321'}\n",
    "a[\"Ram\"] = \"9800000000\"\n",
    "a"
   ]
  },
  {
   "cell_type": "code",
   "execution_count": 22,
   "metadata": {},
   "outputs": [
    {
     "ename": "TypeError",
     "evalue": "unsupported operand type(s) for +: 'dict' and 'dict'",
     "output_type": "error",
     "traceback": [
      "\u001b[1;31m---------------------------------------------------------------------------\u001b[0m",
      "\u001b[1;31mTypeError\u001b[0m                                 Traceback (most recent call last)",
      "\u001b[1;32m~\\AppData\\Local\\Temp/ipykernel_4656/1930160238.py\u001b[0m in \u001b[0;36m<module>\u001b[1;34m\u001b[0m\n\u001b[0;32m      1\u001b[0m \u001b[0ma\u001b[0m \u001b[1;33m=\u001b[0m \u001b[1;33m{\u001b[0m\u001b[1;34m\"A\"\u001b[0m\u001b[1;33m:\u001b[0m\u001b[1;34m\"Apple\"\u001b[0m\u001b[1;33m}\u001b[0m\u001b[1;33m\u001b[0m\u001b[1;33m\u001b[0m\u001b[0m\n\u001b[0;32m      2\u001b[0m \u001b[0mb\u001b[0m \u001b[1;33m=\u001b[0m \u001b[1;33m{\u001b[0m\u001b[1;34m\"B\"\u001b[0m\u001b[1;33m:\u001b[0m\u001b[1;34m\"Ball\"\u001b[0m\u001b[1;33m}\u001b[0m\u001b[1;33m\u001b[0m\u001b[1;33m\u001b[0m\u001b[0m\n\u001b[1;32m----> 3\u001b[1;33m \u001b[0mc\u001b[0m \u001b[1;33m=\u001b[0m \u001b[0ma\u001b[0m\u001b[1;33m+\u001b[0m\u001b[0mb\u001b[0m\u001b[1;33m\u001b[0m\u001b[1;33m\u001b[0m\u001b[0m\n\u001b[0m\u001b[0;32m      4\u001b[0m \u001b[0mc\u001b[0m\u001b[1;33m\u001b[0m\u001b[1;33m\u001b[0m\u001b[0m\n",
      "\u001b[1;31mTypeError\u001b[0m: unsupported operand type(s) for +: 'dict' and 'dict'"
     ]
    }
   ],
   "source": [
    "a = {\"A\":\"Apple\"}\n",
    "b = {\"B\":\"Ball\"}\n",
    "c = a+b\n",
    "c"
   ]
  },
  {
   "cell_type": "code",
   "execution_count": 23,
   "metadata": {},
   "outputs": [
    {
     "name": "stdout",
     "output_type": "stream",
     "text": [
      "{1: 1, 2: 4, 3: 9, 4: 16}\n"
     ]
    }
   ],
   "source": [
    "a = {1:1,2:4,3:9,4:16}\n",
    "print(a)"
   ]
  },
  {
   "cell_type": "code",
   "execution_count": 24,
   "metadata": {},
   "outputs": [
    {
     "data": {
      "text/plain": [
       "{('Ram', 'Hari'): '9800000000', 'Shyam': '9856552321'}"
      ]
     },
     "execution_count": 24,
     "metadata": {},
     "output_type": "execute_result"
    }
   ],
   "source": [
    "a = {('Ram',\"Hari\"): '9800000000', 'Shyam': '9856552321'}\n",
    "a"
   ]
  },
  {
   "cell_type": "code",
   "execution_count": 25,
   "metadata": {},
   "outputs": [
    {
     "ename": "TypeError",
     "evalue": "unhashable type: 'list'",
     "output_type": "error",
     "traceback": [
      "\u001b[1;31m---------------------------------------------------------------------------\u001b[0m",
      "\u001b[1;31mTypeError\u001b[0m                                 Traceback (most recent call last)",
      "\u001b[1;32m~\\AppData\\Local\\Temp/ipykernel_4656/329016884.py\u001b[0m in \u001b[0;36m<module>\u001b[1;34m\u001b[0m\n\u001b[1;32m----> 1\u001b[1;33m \u001b[0ma\u001b[0m \u001b[1;33m=\u001b[0m \u001b[1;33m{\u001b[0m\u001b[1;33m[\u001b[0m\u001b[1;34m'Ram'\u001b[0m\u001b[1;33m,\u001b[0m\u001b[1;34m\"Hari\"\u001b[0m\u001b[1;33m]\u001b[0m\u001b[1;33m:\u001b[0m \u001b[1;34m'9800000000'\u001b[0m\u001b[1;33m,\u001b[0m \u001b[1;34m'Shyam'\u001b[0m\u001b[1;33m:\u001b[0m \u001b[1;34m'9856552321'\u001b[0m\u001b[1;33m}\u001b[0m\u001b[1;33m\u001b[0m\u001b[1;33m\u001b[0m\u001b[0m\n\u001b[0m\u001b[0;32m      2\u001b[0m \u001b[0ma\u001b[0m\u001b[1;33m\u001b[0m\u001b[1;33m\u001b[0m\u001b[0m\n",
      "\u001b[1;31mTypeError\u001b[0m: unhashable type: 'list'"
     ]
    }
   ],
   "source": [
    "a = {['Ram',\"Hari\"]: '9800000000', 'Shyam': '9856552321'}\n",
    "a"
   ]
  },
  {
   "cell_type": "code",
   "execution_count": 27,
   "metadata": {},
   "outputs": [
    {
     "name": "stdout",
     "output_type": "stream",
     "text": [
      "{}\n"
     ]
    }
   ],
   "source": [
    "a = {'Ram': '9867665654', 'Shyam': '9856552321'}\n",
    "a.clear()\n",
    "print(a)"
   ]
  },
  {
   "cell_type": "code",
   "execution_count": 29,
   "metadata": {},
   "outputs": [
    {
     "name": "stdout",
     "output_type": "stream",
     "text": [
      "{'Shyam': '9856552321'}\n"
     ]
    }
   ],
   "source": [
    "a = {'Ram': '9867665654', 'Shyam': '9856552321'}\n",
    "del a[\"Ram\"]\n",
    "print(a)"
   ]
  },
  {
   "cell_type": "code",
   "execution_count": 30,
   "metadata": {},
   "outputs": [
    {
     "name": "stdout",
     "output_type": "stream",
     "text": [
      "{'Ram': '9867665654'}\n"
     ]
    }
   ],
   "source": [
    "a = {'Ram': '9867665654', 'Shyam': '9856552321'}\n",
    "a.pop(\"Shyam\")\n",
    "print(a)"
   ]
  },
  {
   "cell_type": "code",
   "execution_count": 33,
   "metadata": {},
   "outputs": [
    {
     "data": {
      "text/plain": [
       "{'Shyam': '9856552321'}"
      ]
     },
     "execution_count": 33,
     "metadata": {},
     "output_type": "execute_result"
    }
   ],
   "source": [
    "a = {('Ram',\"Hari\"): '9800000000', 'Shyam': '9856552321'}\n",
    "del a[('Ram',\"Hari\")]\n",
    "a"
   ]
  },
  {
   "cell_type": "code",
   "execution_count": 34,
   "metadata": {},
   "outputs": [
    {
     "data": {
      "text/plain": [
       "{'Ram': ['9867665654', '9809556543'], 'Shyam': ['9856552321', '9898667654']}"
      ]
     },
     "execution_count": 34,
     "metadata": {},
     "output_type": "execute_result"
    }
   ],
   "source": [
    "#list inside dictionary\n",
    "a = {'Ram': ['9867665654','9809556543'], 'Shyam': ['9856552321','9898667654']}\n",
    "a\n"
   ]
  },
  {
   "cell_type": "code",
   "execution_count": 35,
   "metadata": {},
   "outputs": [
    {
     "name": "stdout",
     "output_type": "stream",
     "text": [
      "Enter n = 2\n",
      "Enter name = Ram\n",
      "Enter ntc phone = 9843556554\n",
      "Enter ncell phone = 9808667654\n",
      "Enter name = Shyam\n",
      "Enter ntc phone = 9845667665\n",
      "Enter ncell phone = 9808556543\n",
      "{'Ram': ['9843556554', '9808667654'], 'Shyam': ['9845667665', '9808556543']}\n"
     ]
    }
   ],
   "source": [
    "data = {}\n",
    "n = int(input(\"Enter n = \"))\n",
    "for i in range(n):\n",
    "    name = input(\"Enter name = \")\n",
    "    ntc = input(\"Enter ntc phone = \")\n",
    "    ncell = input(\"Enter ncell phone = \")\n",
    "    if (len(ntc) == 10) and (len(ncell) ==10):\n",
    "        data[name] = [ntc,ncell]\n",
    "    else:\n",
    "        print(\"Insert valid no.\")\n",
    "print(data)"
   ]
  },
  {
   "cell_type": "code",
   "execution_count": 36,
   "metadata": {},
   "outputs": [
    {
     "data": {
      "text/plain": [
       "{'Ram': ['9843556554', '9808667654'],\n",
       " 'Shyam': ['9845667665', '9808556543'],\n",
       " 'Hari': [9845443432, 9878776765]}"
      ]
     },
     "execution_count": 36,
     "metadata": {},
     "output_type": "execute_result"
    }
   ],
   "source": [
    "a = {'Ram': ['9843556554', '9808667654'], 'Shyam': ['9845667665', '9808556543']}\n",
    "a[\"Hari\"] = [9845443432,9878776765]\n",
    "a"
   ]
  },
  {
   "cell_type": "code",
   "execution_count": 39,
   "metadata": {},
   "outputs": [
    {
     "name": "stdout",
     "output_type": "stream",
     "text": [
      "Enter name = Ram\n",
      "Enter 0 for ntc and 1 for ncell0\n",
      "NTC no of Ram 9843556554\n"
     ]
    }
   ],
   "source": [
    "name = input(\"Enter name = \")\n",
    "a = {'Ram': ['9843556554', '9808667654'], 'Shyam': ['9845667665', '9808556543']}\n",
    "x = int(input(\"Enter 0 for ntc and 1 for ncell\"))\n",
    "if x == 0:\n",
    "    print(f\"NTC no of {name}\",a[name][0])\n",
    "elif x ==1:\n",
    "    print(f\"NCELL no of {name}\",a[name][1])\n"
   ]
  },
  {
   "cell_type": "code",
   "execution_count": 42,
   "metadata": {},
   "outputs": [
    {
     "data": {
      "text/plain": [
       "{'Ram': [9845665654, 9808667654], 'Shyam': ['9845667665', '9808556543']}"
      ]
     },
     "execution_count": 42,
     "metadata": {},
     "output_type": "execute_result"
    }
   ],
   "source": [
    "a = {'Ram': ['9843556554', '9808667654'], 'Shyam': ['9845667665', '9808556543']}\n",
    "a[\"Ram\"][0] = 9845665654\n",
    "a[\"Ram\"][1] = 9808667654\n",
    "a"
   ]
  },
  {
   "cell_type": "code",
   "execution_count": 2,
   "metadata": {},
   "outputs": [
    {
     "name": "stdout",
     "output_type": "stream",
     "text": [
      "[{'name': 'Ram', 'age': 34, 'add': 'Kathmandu'}, {'name': 'Shyam', 'age': 45, 'add': 'Patan'}, {'name': 'Nabin', 'age': 45, 'add': 'Bara'}]\n"
     ]
    }
   ],
   "source": [
    "# dict inside list\n",
    "a = [{\"name\":\"Ram\",\"age\":34,\"add\":\"Kathmandu\"},\n",
    "    {\"name\":\"Shyam\",\"age\":45,\"add\":\"Patan\"},\n",
    "    {\"name\":\"Nabin\",\"age\":45,\"add\":\"Bara\"}]\n",
    "print(a)"
   ]
  },
  {
   "cell_type": "code",
   "execution_count": 3,
   "metadata": {},
   "outputs": [
    {
     "name": "stdout",
     "output_type": "stream",
     "text": [
      "{'name': 'Ram', 'age': 34, 'add': 'Kathmandu'}\n",
      "{'name': 'Shyam', 'age': 45, 'add': 'Patan'}\n",
      "{'name': 'Nabin', 'age': 45, 'add': 'Bara'}\n"
     ]
    }
   ],
   "source": [
    "for i in a:\n",
    "    print(i)"
   ]
  },
  {
   "cell_type": "code",
   "execution_count": 4,
   "metadata": {},
   "outputs": [
    {
     "name": "stdout",
     "output_type": "stream",
     "text": [
      "Enter n = 2\n",
      "Enter name = Ram\n",
      "Enter age  = 78\n",
      "Enter add = Kathmandu\n",
      "Enter name = Shyam\n",
      "Enter age  = 67\n",
      "Enter add = Kathmandu\n",
      "[{'name': 'Ram', 'age': '78', 'add': 'Kathmandu'}, {'name': 'Shyam', 'age': '67', 'add': 'Kathmandu'}]\n"
     ]
    }
   ],
   "source": [
    "data = []\n",
    "n = int(input(\"Enter n = \"))\n",
    "for i in range(n):\n",
    "    name = input(\"Enter name = \")\n",
    "    age = input(\"Enter age  = \")\n",
    "    add = input(\"Enter add = \")\n",
    "    info = {\"name\":name,\"age\":age,\"add\":add}\n",
    "    data.append(info)\n",
    "print(data)"
   ]
  },
  {
   "cell_type": "code",
   "execution_count": 6,
   "metadata": {},
   "outputs": [
    {
     "name": "stdout",
     "output_type": "stream",
     "text": [
      "Ram\n"
     ]
    }
   ],
   "source": [
    "a = [{'name': 'Ram', 'age': '78', 'add': 'Kathmandu'}, \n",
    "     {'name': 'Shyam', 'age': '67', 'add': 'Kathmandu'}]\n",
    "print(a[0]['name'])"
   ]
  },
  {
   "cell_type": "code",
   "execution_count": 7,
   "metadata": {},
   "outputs": [
    {
     "data": {
      "text/plain": [
       "[{'name': 'Ram Prasad', 'age': '78', 'add': 'Kathmandu'},\n",
       " {'name': 'Shyam', 'age': '67', 'add': 'Kathmandu'}]"
      ]
     },
     "execution_count": 7,
     "metadata": {},
     "output_type": "execute_result"
    }
   ],
   "source": [
    "a = [{'name': 'Ram', 'age': '78', 'add': 'Kathmandu'}, \n",
    "     {'name': 'Shyam', 'age': '67', 'add': 'Kathmandu'}]\n",
    "a[0]['name'] = \"Ram Prasad\"\n",
    "a"
   ]
  },
  {
   "cell_type": "code",
   "execution_count": 8,
   "metadata": {},
   "outputs": [
    {
     "data": {
      "text/plain": [
       "{1: {'name': 'Aayush', 'age': 20, 'add': 'kathmandu'},\n",
       " 2: {'name': 'Sabin', 'age': 40, 'add': 'Bhaktapur'}}"
      ]
     },
     "execution_count": 8,
     "metadata": {},
     "output_type": "execute_result"
    }
   ],
   "source": [
    "# dict inside dict\n",
    "a = {1:{\"name\":\"Aayush\",\"age\":20,\"add\":\"kathmandu\"},\n",
    "    2:{\"name\":\"Sabin\",\"age\":40,\"add\":\"Bhaktapur\"}}\n",
    "a"
   ]
  },
  {
   "cell_type": "code",
   "execution_count": 10,
   "metadata": {},
   "outputs": [
    {
     "data": {
      "text/plain": [
       "'Aayush'"
      ]
     },
     "execution_count": 10,
     "metadata": {},
     "output_type": "execute_result"
    }
   ],
   "source": [
    "a[1]['name']"
   ]
  },
  {
   "cell_type": "code",
   "execution_count": 11,
   "metadata": {},
   "outputs": [
    {
     "data": {
      "text/plain": [
       "{1: {'name': 'Aayush', 'age': 20, 'add': 'kathmandu'},\n",
       " 2: {'name': 'Sabin', 'age': 40, 'add': 'Bhaktapur'},\n",
       " 3: {'name': 'Sabina', 'age': 41, 'add': 'Bhaktapur'}}"
      ]
     },
     "execution_count": 11,
     "metadata": {},
     "output_type": "execute_result"
    }
   ],
   "source": [
    "a[3] = {\"name\":\"Sabina\",\"age\":41,\"add\":\"Bhaktapur\"}\n",
    "a"
   ]
  },
  {
   "cell_type": "code",
   "execution_count": 12,
   "metadata": {},
   "outputs": [
    {
     "name": "stdout",
     "output_type": "stream",
     "text": [
      "Enter n = 1\n",
      "Enter name = Ram\n",
      "Enter age  = 34\n",
      "Enter add = kathmandu\n",
      "{1: {'name': 'Ram', 'age': '34', 'add': 'kathmandu'}}\n"
     ]
    }
   ],
   "source": [
    "data = {}\n",
    "n = int(input(\"Enter n = \"))\n",
    "for i in range(1,n+1):\n",
    "    name = input(\"Enter name = \")\n",
    "    age = input(\"Enter age  = \")\n",
    "    add = input(\"Enter add = \")\n",
    "    data[i] = {\"name\":name,\"age\":age,\"add\":add}\n",
    "print(data)"
   ]
  },
  {
   "cell_type": "code",
   "execution_count": null,
   "metadata": {},
   "outputs": [],
   "source": []
  }
 ],
 "metadata": {
  "kernelspec": {
   "display_name": "Python 3 (ipykernel)",
   "language": "python",
   "name": "python3"
  },
  "language_info": {
   "codemirror_mode": {
    "name": "ipython",
    "version": 3
   },
   "file_extension": ".py",
   "mimetype": "text/x-python",
   "name": "python",
   "nbconvert_exporter": "python",
   "pygments_lexer": "ipython3",
   "version": "3.7.1"
  }
 },
 "nbformat": 4,
 "nbformat_minor": 2
}
